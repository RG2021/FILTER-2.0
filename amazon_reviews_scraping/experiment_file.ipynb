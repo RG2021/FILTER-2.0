{
 "cells": [
  {
   "cell_type": "code",
   "execution_count": 25,
   "metadata": {},
   "outputs": [],
   "source": [
    "txt = \"Would I recommend this product to others? Definitely yes.Pros:Light WeightBattery LifeCons:No 3.5 mm cable, only blue toothI was in search of a light weight wireless headphone that I can use for long hours. I have a Bose now but I cannot use it for longer than 2-3 hours as its heavy and ears and hea d start aching.This Infinity one wins there. I have used it for 6-7 hours without any aches or pains.The ear pieces do press a little on the ears unlike over-the-ear ones. This one is on-the-ear. But it is not uncomfortable and gives a good fit.The sound quality is good too. Noise cancellation is not big. With low volumes, you can hear surrounding noise.Battery does last for a long long time. I used it daily for 4-5 hours for about 3 days with one charge. Am truly impressed with it.And it folds, hence carrying it around is convenient too.And I got it in the lightning deal at 1500 Rs. Worth the price. I would definitely recommend this to anyone who is looking for a non-expensive wireless headphones with a decent sound quality.I am giving it a 4 because I am not sure of its durability. If it lasts foe 6 months at least, then I will come back and update the rating to a 5.\""
   ]
  },
  {
   "cell_type": "code",
   "execution_count": 26,
   "metadata": {},
   "outputs": [
    {
     "name": "stdout",
     "output_type": "stream",
     "text": [
      "Would I recommend this product to others? Definitely yes.Pros:Light WeightBattery LifeCons:No 3.5 mm cable, only blue toothI was in search of a light weight wireless headphone that I can use for long hours. I have a Bose now but I cannot use it for longer than 2-3 hours as its heavy and ears and hea d start aching.This Infinity one wins there. I have used it for 6-7 hours without any aches or pains.The ear pieces do press a little on the ears unlike over-the-ear ones. This one is on-the-ear. But it is not uncomfortable and gives a good fit.The sound quality is good too. Noise cancellation is not big. With low volumes, you can hear surrounding noise.Battery does last for a long long time. I used it daily for 4-5 hours for about 3 days with one charge. Am truly impressed with it.And it folds, hence carrying it around is convenient too.And I got it in the lightning deal at 1500 Rs. Worth the price. I would definitely recommend this to anyone who is looking for a non-expensive wireless headphones with a decent sound quality.I am giving it a 4 because I am not sure of its durability. If it lasts foe 6 months at least, then I will come back and update the rating to a 5.\n"
     ]
    }
   ],
   "source": [
    "print(txt)"
   ]
  },
  {
   "cell_type": "code",
   "execution_count": 37,
   "metadata": {},
   "outputs": [],
   "source": [
    "def replaceMultiple(mainString, toBeReplaces, newString):\n",
    "    # Iterate over the strings to be replaced\n",
    "    for elem in toBeReplaces :\n",
    "        mainString = mainString.lower().replace(elem, newString)\n",
    "    \n",
    "    return  mainString"
   ]
  },
  {
   "cell_type": "code",
   "execution_count": 38,
   "metadata": {},
   "outputs": [
    {
     "data": {
      "text/plain": [
       "'would i recommend this product to others? definitely yes.pros:light weight####### lifecons:no 3.5 mm cable, only blue toothi was in search of a light weight wireless headphone that i can use for long hours. i have a bose now but i cannot use it for longer than 2-3 hours as its heavy and ears and hea d start aching.this infinity one wins there. i have used it for 6-7 hours without any aches or pains.the ear pieces do press a little on the ears unlike over-the-ear ones. this one is on-the-ear. but it is not uncomfortable and gives a good fit.the ####### quality is good too. ####### cancellation is not big. with low volumes, you can hear surrounding #######.####### does last for a long long time. i used it daily for 4-5 hours for about 3 days with one charge. am truly impressed with it.and it folds, hence carrying it around is convenient too.and i got it in the lightning deal at 1500 rs. worth the #######. i would definitely recommend this to anyone who is looking for a non-expensive wireless headphones with a decent ####### quality.i am giving it a 4 because i am not sure of its durability. if it lasts foe 6 months at least, then i will come back and update the rating to a 5.'"
      ]
     },
     "execution_count": 38,
     "metadata": {},
     "output_type": "execute_result"
    }
   ],
   "source": [
    "replaceMultiple(txt, ['sound', 'battery', 'noise', 'price'], '#######')"
   ]
  },
  {
   "cell_type": "code",
   "execution_count": null,
   "metadata": {},
   "outputs": [],
   "source": []
  },
  {
   "cell_type": "code",
   "execution_count": null,
   "metadata": {},
   "outputs": [],
   "source": []
  },
  {
   "cell_type": "code",
   "execution_count": null,
   "metadata": {},
   "outputs": [],
   "source": []
  },
  {
   "cell_type": "code",
   "execution_count": 1,
   "metadata": {},
   "outputs": [],
   "source": [
    "import stanfordnlp"
   ]
  },
  {
   "cell_type": "code",
   "execution_count": null,
   "metadata": {},
   "outputs": [
    {
     "name": "stdout",
     "output_type": "stream",
     "text": [
      "Using the default treebank \"en_ewt\" for language \"en\".\n",
      "Would you like to download the models for: en_ewt now? (Y/n)\n",
      "Y\n",
      "\n",
      "Default download directory: C:\\Users\\HP\\stanfordnlp_resources\n",
      "Hit enter to continue or type an alternate directory.\n",
      "\n",
      "\n",
      "Downloading models for: en_ewt\n",
      "Download location: C:\\Users\\HP\\stanfordnlp_resources\\en_ewt_models.zip\n"
     ]
    },
    {
     "name": "stderr",
     "output_type": "stream",
     "text": [
      "\r",
      "  0%|                                                                                       | 0.00/235M [00:00<?, ?B/s]"
     ]
    }
   ],
   "source": [
    "stanfordnlp.download('en')"
   ]
  },
  {
   "cell_type": "code",
   "execution_count": 4,
   "metadata": {},
   "outputs": [
    {
     "name": "stdout",
     "output_type": "stream",
     "text": [
      "Use device: cpu\n",
      "---\n",
      "Loading: tokenize\n",
      "With settings: \n",
      "{'model_path': 'C:\\\\Users\\\\HP\\\\stanfordnlp_resources\\\\en_ewt_models\\\\en_ewt_tokenizer.pt', 'lang': 'en', 'shorthand': 'en_ewt', 'mode': 'predict'}\n",
      "---\n",
      "Loading: pos\n",
      "With settings: \n",
      "{'model_path': 'C:\\\\Users\\\\HP\\\\stanfordnlp_resources\\\\en_ewt_models\\\\en_ewt_tagger.pt', 'pretrain_path': 'C:\\\\Users\\\\HP\\\\stanfordnlp_resources\\\\en_ewt_models\\\\en_ewt.pretrain.pt', 'lang': 'en', 'shorthand': 'en_ewt', 'mode': 'predict'}\n",
      "---\n",
      "Loading: lemma\n",
      "With settings: \n",
      "{'model_path': 'C:\\\\Users\\\\HP\\\\stanfordnlp_resources\\\\en_ewt_models\\\\en_ewt_lemmatizer.pt', 'lang': 'en', 'shorthand': 'en_ewt', 'mode': 'predict'}\n",
      "Building an attentional Seq2Seq model...\n",
      "Using a Bi-LSTM encoder\n",
      "Using soft attention for LSTM.\n",
      "Finetune all embeddings.\n",
      "[Running seq2seq lemmatizer with edit classifier]\n",
      "---\n",
      "Loading: depparse\n",
      "With settings: \n",
      "{'model_path': 'C:\\\\Users\\\\HP\\\\stanfordnlp_resources\\\\en_ewt_models\\\\en_ewt_parser.pt', 'pretrain_path': 'C:\\\\Users\\\\HP\\\\stanfordnlp_resources\\\\en_ewt_models\\\\en_ewt.pretrain.pt', 'lang': 'en', 'shorthand': 'en_ewt', 'mode': 'predict'}\n",
      "Done loading processors!\n",
      "---\n"
     ]
    }
   ],
   "source": [
    "nlp = stanfordnlp.Pipeline()"
   ]
  },
  {
   "cell_type": "code",
   "execution_count": 7,
   "metadata": {},
   "outputs": [
    {
     "name": "stderr",
     "output_type": "stream",
     "text": [
      "..\\aten\\src\\ATen\\native\\LegacyDefinitions.cpp:19: UserWarning: masked_fill_ received a mask with dtype torch.uint8, this behavior is now deprecated,please use a mask with dtype torch.bool instead.\n"
     ]
    }
   ],
   "source": [
    "doc = nlp(txt)"
   ]
  },
  {
   "cell_type": "code",
   "execution_count": 12,
   "metadata": {},
   "outputs": [
    {
     "name": "stdout",
     "output_type": "stream",
     "text": [
      "('This', '3', 'det')\n",
      "('Infinity', '3', 'compound')\n",
      "('one', '4', 'nsubj')\n",
      "('wins', '0', 'root')\n",
      "('there', '4', 'advmod')\n",
      "('.', '4', 'punct')\n"
     ]
    }
   ],
   "source": [
    "doc.sentences[5].print_dependencies()"
   ]
  },
  {
   "cell_type": "code",
   "execution_count": 39,
   "metadata": {},
   "outputs": [],
   "source": [
    "txt = \"Sound quality is good but noise cancellation is not big.\""
   ]
  },
  {
   "cell_type": "code",
   "execution_count": 40,
   "metadata": {},
   "outputs": [
    {
     "name": "stderr",
     "output_type": "stream",
     "text": [
      "..\\aten\\src\\ATen\\native\\LegacyDefinitions.cpp:19: UserWarning: masked_fill_ received a mask with dtype torch.uint8, this behavior is now deprecated,please use a mask with dtype torch.bool instead.\n"
     ]
    }
   ],
   "source": [
    "doc = nlp(txt)"
   ]
  },
  {
   "cell_type": "code",
   "execution_count": 41,
   "metadata": {},
   "outputs": [
    {
     "name": "stdout",
     "output_type": "stream",
     "text": [
      "('Sound', '2', 'compound')\n",
      "('quality', '4', 'nsubj')\n",
      "('is', '4', 'cop')\n",
      "('good', '0', 'root')\n",
      "('but', '10', 'cc')\n",
      "('noise', '7', 'compound')\n",
      "('cancellation', '10', 'nsubj')\n",
      "('is', '10', 'cop')\n",
      "('not', '10', 'advmod')\n",
      "('big', '4', 'conj')\n",
      "('.', '4', 'punct')\n"
     ]
    }
   ],
   "source": [
    "doc.sentences[0].print_dependencies()"
   ]
  },
  {
   "cell_type": "code",
   "execution_count": null,
   "metadata": {},
   "outputs": [],
   "source": []
  }
 ],
 "metadata": {
  "kernelspec": {
   "display_name": "Python 3",
   "language": "python",
   "name": "python3"
  },
  "language_info": {
   "codemirror_mode": {
    "name": "ipython",
    "version": 3
   },
   "file_extension": ".py",
   "mimetype": "text/x-python",
   "name": "python",
   "nbconvert_exporter": "python",
   "pygments_lexer": "ipython3",
   "version": "3.7.2"
  }
 },
 "nbformat": 4,
 "nbformat_minor": 4
}
